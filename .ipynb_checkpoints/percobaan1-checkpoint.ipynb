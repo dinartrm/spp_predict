{
 "cells": [
  {
   "cell_type": "code",
   "execution_count": 1,
   "id": "12c29979-4e31-4477-9922-3216f4d48ad5",
   "metadata": {},
   "outputs": [],
   "source": [
    "import pandas as pd\n",
    "from sklearn.preprocessing import LabelEncoder\n",
    "from sklearn.tree import DecisionTreeClassifier\n",
    "from sklearn.metrics import accuracy_score\n",
    "from sklearn.model_selection import train_test_split\n",
    "from sklearn.metrics import classification_report, confusion_matrix\n",
    "from sklearn.tree import plot_tree"
   ]
  },
  {
   "cell_type": "code",
   "execution_count": 2,
   "id": "ba18a251-53f7-4722-81ed-27a7fd4f4bfd",
   "metadata": {},
   "outputs": [
    {
     "data": {
      "text/html": [
       "<div>\n",
       "<style scoped>\n",
       "    .dataframe tbody tr th:only-of-type {\n",
       "        vertical-align: middle;\n",
       "    }\n",
       "\n",
       "    .dataframe tbody tr th {\n",
       "        vertical-align: top;\n",
       "    }\n",
       "\n",
       "    .dataframe thead th {\n",
       "        text-align: right;\n",
       "    }\n",
       "</style>\n",
       "<table border=\"1\" class=\"dataframe\">\n",
       "  <thead>\n",
       "    <tr style=\"text-align: right;\">\n",
       "      <th></th>\n",
       "      <th>no</th>\n",
       "      <th>nama</th>\n",
       "      <th>nipd</th>\n",
       "      <th>jk</th>\n",
       "      <th>nama_ayah</th>\n",
       "      <th>penghasilan_ayah</th>\n",
       "      <th>nama_ibu</th>\n",
       "      <th>tahun_ibu</th>\n",
       "      <th>pendidikan_ibu</th>\n",
       "      <th>pekerjaan_ibu</th>\n",
       "      <th>penghasilan_ibu</th>\n",
       "      <th>kelas</th>\n",
       "    </tr>\n",
       "  </thead>\n",
       "  <tbody>\n",
       "    <tr>\n",
       "      <th>0</th>\n",
       "      <td>1</td>\n",
       "      <td>Adam Junior Muhlisin</td>\n",
       "      <td>1.23.3153</td>\n",
       "      <td>L</td>\n",
       "      <td>Mumu Muhlisin</td>\n",
       "      <td>Rp. 2,000,000 - Rp. 4,999,999</td>\n",
       "      <td>Enny Asfiyah</td>\n",
       "      <td>1977.0</td>\n",
       "      <td>D3</td>\n",
       "      <td>PNS/TNI/Polri</td>\n",
       "      <td>Rp. 2,000,000 - Rp. 4,999,999</td>\n",
       "      <td>11-PSPT</td>\n",
       "    </tr>\n",
       "    <tr>\n",
       "      <th>1</th>\n",
       "      <td>2</td>\n",
       "      <td>ADITIA PRASETIO</td>\n",
       "      <td>1.24.3255</td>\n",
       "      <td>L</td>\n",
       "      <td>DENI PASISRANI</td>\n",
       "      <td>Rp. 1,000,000 - Rp. 1,999,999</td>\n",
       "      <td>SUNENGSIH</td>\n",
       "      <td>0.0</td>\n",
       "      <td>NaN</td>\n",
       "      <td>Tidak bekerja</td>\n",
       "      <td>Tidak Berpenghasilan</td>\n",
       "      <td>10-BCP</td>\n",
       "    </tr>\n",
       "    <tr>\n",
       "      <th>2</th>\n",
       "      <td>3</td>\n",
       "      <td>Adly Firlangga Afzaal Putra</td>\n",
       "      <td>1.24.3224</td>\n",
       "      <td>L</td>\n",
       "      <td>NaN</td>\n",
       "      <td>NaN</td>\n",
       "      <td>Nur Aini</td>\n",
       "      <td>0.0</td>\n",
       "      <td>SMA / sederajat</td>\n",
       "      <td>Tidak bekerja</td>\n",
       "      <td>Tidak Berpenghasilan</td>\n",
       "      <td>10-TJKT</td>\n",
       "    </tr>\n",
       "    <tr>\n",
       "      <th>3</th>\n",
       "      <td>4</td>\n",
       "      <td>ADZRAA AQIILAH</td>\n",
       "      <td>1.22.3063</td>\n",
       "      <td>P</td>\n",
       "      <td>Mulyadi Sanang</td>\n",
       "      <td>Rp. 2,000,000 - Rp. 4,999,999</td>\n",
       "      <td>Ika sartika</td>\n",
       "      <td>1967.0</td>\n",
       "      <td>SMA / sederajat</td>\n",
       "      <td>Tidak bekerja</td>\n",
       "      <td>Tidak Berpenghasilan</td>\n",
       "      <td>12-DKV</td>\n",
       "    </tr>\n",
       "    <tr>\n",
       "      <th>4</th>\n",
       "      <td>5</td>\n",
       "      <td>Afifah Nailal Husna</td>\n",
       "      <td>1.22.3087</td>\n",
       "      <td>P</td>\n",
       "      <td>Surur Masrur</td>\n",
       "      <td>Rp. 5,000,000 - Rp. 20,000,000</td>\n",
       "      <td>Atik Latipah</td>\n",
       "      <td>1982.0</td>\n",
       "      <td>SMA / sederajat</td>\n",
       "      <td>Tidak bekerja</td>\n",
       "      <td>Tidak Berpenghasilan</td>\n",
       "      <td>12-PSPT</td>\n",
       "    </tr>\n",
       "  </tbody>\n",
       "</table>\n",
       "</div>"
      ],
      "text/plain": [
       "   no                         nama       nipd jk       nama_ayah  \\\n",
       "0   1         Adam Junior Muhlisin  1.23.3153  L   Mumu Muhlisin   \n",
       "1   2              ADITIA PRASETIO  1.24.3255  L  DENI PASISRANI   \n",
       "2   3  Adly Firlangga Afzaal Putra  1.24.3224  L             NaN   \n",
       "3   4               ADZRAA AQIILAH  1.22.3063  P  Mulyadi Sanang   \n",
       "4   5          Afifah Nailal Husna  1.22.3087  P    Surur Masrur   \n",
       "\n",
       "                 penghasilan_ayah      nama_ibu  tahun_ibu   pendidikan_ibu  \\\n",
       "0   Rp. 2,000,000 - Rp. 4,999,999  Enny Asfiyah     1977.0               D3   \n",
       "1   Rp. 1,000,000 - Rp. 1,999,999     SUNENGSIH        0.0              NaN   \n",
       "2                             NaN      Nur Aini        0.0  SMA / sederajat   \n",
       "3   Rp. 2,000,000 - Rp. 4,999,999   Ika sartika     1967.0  SMA / sederajat   \n",
       "4  Rp. 5,000,000 - Rp. 20,000,000  Atik Latipah     1982.0  SMA / sederajat   \n",
       "\n",
       "   pekerjaan_ibu                penghasilan_ibu    kelas  \n",
       "0  PNS/TNI/Polri  Rp. 2,000,000 - Rp. 4,999,999  11-PSPT  \n",
       "1  Tidak bekerja           Tidak Berpenghasilan   10-BCP  \n",
       "2  Tidak bekerja           Tidak Berpenghasilan  10-TJKT  \n",
       "3  Tidak bekerja           Tidak Berpenghasilan   12-DKV  \n",
       "4  Tidak bekerja           Tidak Berpenghasilan  12-PSPT  "
      ]
     },
     "execution_count": 2,
     "metadata": {},
     "output_type": "execute_result"
    }
   ],
   "source": [
    "# Load CSV\n",
    "data = pd.read_csv('data_siswa.csv')\n",
    "data.head()"
   ]
  },
  {
   "cell_type": "code",
   "execution_count": 3,
   "id": "d1128cfb-1837-49c3-985a-f2b4a9852285",
   "metadata": {},
   "outputs": [
    {
     "name": "stdout",
     "output_type": "stream",
     "text": [
      "<class 'pandas.core.frame.DataFrame'>\n",
      "RangeIndex: 283 entries, 0 to 282\n",
      "Data columns (total 12 columns):\n",
      " #   Column            Non-Null Count  Dtype  \n",
      "---  ------            --------------  -----  \n",
      " 0   no                283 non-null    int64  \n",
      " 1   nama              283 non-null    object \n",
      " 2   nipd              282 non-null    object \n",
      " 3   jk                283 non-null    object \n",
      " 4   nama_ayah         273 non-null    object \n",
      " 5   penghasilan_ayah  276 non-null    object \n",
      " 6   nama_ibu          283 non-null    object \n",
      " 7   tahun_ibu         282 non-null    float64\n",
      " 8   pendidikan_ibu    250 non-null    object \n",
      " 9   pekerjaan_ibu     283 non-null    object \n",
      " 10  penghasilan_ibu   283 non-null    object \n",
      " 11  kelas             283 non-null    object \n",
      "dtypes: float64(1), int64(1), object(10)\n",
      "memory usage: 26.7+ KB\n",
      "None\n"
     ]
    }
   ],
   "source": [
    "# Menampilkan informasi dasar tentang data\n",
    "print(data.info())"
   ]
  },
  {
   "cell_type": "code",
   "execution_count": 4,
   "id": "607889a2-4eef-4246-97ab-2a443ad802ab",
   "metadata": {},
   "outputs": [
    {
     "name": "stdout",
     "output_type": "stream",
     "text": [
      "no                   0\n",
      "nama                 0\n",
      "nipd                 1\n",
      "jk                   0\n",
      "nama_ayah           10\n",
      "penghasilan_ayah     7\n",
      "nama_ibu             0\n",
      "tahun_ibu            1\n",
      "pendidikan_ibu      33\n",
      "pekerjaan_ibu        0\n",
      "penghasilan_ibu      0\n",
      "kelas                0\n",
      "dtype: int64\n"
     ]
    }
   ],
   "source": [
    "# Menampilkan jumlah nilai yang hilang di setiap kolom\n",
    "print(data.isnull().sum())"
   ]
  },
  {
   "cell_type": "code",
   "execution_count": 5,
   "id": "8f2d8ec6-3d40-4599-8c27-edd8a60aa077",
   "metadata": {},
   "outputs": [
    {
     "name": "stdout",
     "output_type": "stream",
     "text": [
      "0\n"
     ]
    }
   ],
   "source": [
    "# Cek duplikasi\n",
    "print(data.duplicated().sum())"
   ]
  },
  {
   "cell_type": "code",
   "execution_count": 6,
   "id": "b649ba47-394f-4b42-b7b4-5f2656a741fe",
   "metadata": {},
   "outputs": [],
   "source": [
    "# Mengisi nilai kosong pada nipd dengan nilai yang paling sering muncul (mode)\n",
    "data['nipd'].fillna(data['nipd'].mode()[0], inplace=True)\n",
    "\n",
    "# Mengisi nilai kosong pada nama_ayah dengan 'Tidak Diketahui'\n",
    "data['nama_ayah'].fillna('Tidak Diketahui', inplace=True)\n",
    "\n",
    "# Mengisi nilai kosong pada penghasilan_ayah dengan nilai yang paling sering muncul (mode)\n",
    "data['penghasilan_ayah'].fillna(data['penghasilan_ayah'].mode()[0], inplace=True)\n",
    "\n",
    "# Mengisi nilai kosong pada tahun_ibu dengan median\n",
    "data['tahun_ibu'].fillna(data['tahun_ibu'].median(), inplace=True)\n",
    "\n",
    "# Mengisi nilai kosong pada pendidikan_ibu dengan 'Tidak Diketahui'\n",
    "data['pendidikan_ibu'].fillna('Tidak Diketahui', inplace=True)"
   ]
  },
  {
   "cell_type": "code",
   "execution_count": 7,
   "id": "2b331c5c-7735-440e-bb51-315c66d857cd",
   "metadata": {},
   "outputs": [
    {
     "name": "stdout",
     "output_type": "stream",
     "text": [
      "no                  0\n",
      "nama                0\n",
      "nipd                0\n",
      "jk                  0\n",
      "nama_ayah           0\n",
      "penghasilan_ayah    0\n",
      "nama_ibu            0\n",
      "tahun_ibu           0\n",
      "pendidikan_ibu      0\n",
      "pekerjaan_ibu       0\n",
      "penghasilan_ibu     0\n",
      "kelas               0\n",
      "dtype: int64\n"
     ]
    }
   ],
   "source": [
    "# Memastikan tidak ada missing values lagi\n",
    "print(data.isnull().sum())"
   ]
  },
  {
   "cell_type": "code",
   "execution_count": 8,
   "id": "7ea79ae3-a8f6-4739-abd2-0ab2e9efaab0",
   "metadata": {},
   "outputs": [],
   "source": [
    "# Mengonversi nipd ke tipe data string\n",
    "data['nipd'] = data['nipd'].astype(str)\n",
    "\n",
    "# Mengonversi tahun_ibu ke tipe data integer\n",
    "data['tahun_ibu'] = data['tahun_ibu'].astype(int)"
   ]
  },
  {
   "cell_type": "code",
   "execution_count": 9,
   "id": "3111c9ab-ec00-4f6d-b976-1ca0d832e37f",
   "metadata": {},
   "outputs": [
    {
     "name": "stdout",
     "output_type": "stream",
     "text": [
      "['Rp. 2,000,000 - Rp. 4,999,999' 'Rp. 1,000,000 - Rp. 1,999,999'\n",
      " 'Rp. 5,000,000 - Rp. 20,000,000' 'Tidak Berpenghasilan'\n",
      " 'Rp. 500,000 - Rp. 999,999' 'Kurang dari Rp. 500,000'\n",
      " 'Lebih dari Rp. 20,000,000']\n",
      "['Rp. 2,000,000 - Rp. 4,999,999' 'Tidak Berpenghasilan'\n",
      " 'Rp. 1,000,000 - Rp. 1,999,999' 'Rp. 500,000 - Rp. 999,999'\n",
      " 'Rp. 5,000,000 - Rp. 20,000,000' 'Kurang dari Rp. 500,000'\n",
      " 'Lebih dari Rp. 20,000,000']\n",
      "['D3' 'Tidak Diketahui' 'SMA / sederajat' 'Tidak sekolah' 'SD / sederajat'\n",
      " 'SMP / sederajat' 'D4' 'S1' 'D1' 'Sp-1' 'D2' 'S2' 'Putus SD']\n",
      "['PNS/TNI/Polri' 'Tidak bekerja' 'Karyawan Swasta' 'Lainnya' 'Buruh'\n",
      " 'Wiraswasta' 'Petani' 'Wirausaha' 'Pedagang Kecil'\n",
      " 'Tidak dapat diterapkan' 'Tenaga Kerja Indonesia']\n",
      "['11-PSPT' '10-BCP' '10-TJKT' '12-DKV' '12-PSPT' '11-TKJ' '12-TKJ'\n",
      " '11-DKV' '10-DKV']\n"
     ]
    }
   ],
   "source": [
    "# Menampilkan kategori yang ada dalam kolom 'penghasilan_ayah'\n",
    "print(data['penghasilan_ayah'].unique())\n",
    "\n",
    "# Menampilkan kategori yang ada dalam kolom 'penghasilan_ibu'\n",
    "print(data['penghasilan_ibu'].unique())\n",
    "\n",
    "# Menampilkan kategori yang ada dalam kolom 'pendidikan_ibu'\n",
    "print(data['pendidikan_ibu'].unique())\n",
    "\n",
    "# Menampilkan kategori yang ada dalam kolom 'kelas'\n",
    "print(data['pekerjaan_ibu'].unique())\n",
    "\n",
    "# Menampilkan kategori yang ada dalam kolom 'kelas'\n",
    "print(data['kelas'].unique())"
   ]
  },
  {
   "cell_type": "code",
   "execution_count": 10,
   "id": "684077d3-00e7-4015-a873-fab9ef0b9ca2",
   "metadata": {},
   "outputs": [
    {
     "name": "stdout",
     "output_type": "stream",
     "text": [
      "['D3' 'Tidak Diketahui' 'SMA / sederajat' 'SD / sederajat'\n",
      " 'SMP / sederajat' 'D4' 'S1' 'D1' 'D2' 'S2']\n"
     ]
    }
   ],
   "source": [
    "# Mengganti kategori pada kolom 'pendidikan_ibu'\n",
    "data['pendidikan_ibu'] = data['pendidikan_ibu'].replace({'Sp-1': 'S1', 'Putus SD': 'SD / sederajat', 'Tidak sekolah':'Tidak Diketahui'})\n",
    "\n",
    "# Menampilkan hasil setelah penggantian\n",
    "print(data['pendidikan_ibu'].unique())"
   ]
  },
  {
   "cell_type": "code",
   "execution_count": 11,
   "id": "6c521e83-687b-474a-9b14-acd0d6f2b0c4",
   "metadata": {},
   "outputs": [
    {
     "name": "stdout",
     "output_type": "stream",
     "text": [
      "   pendidikan_ibu\n",
      "0               6\n",
      "1               0\n",
      "2               3\n",
      "3               3\n",
      "4               3\n"
     ]
    }
   ],
   "source": [
    "# Menentukan urutan kategori untuk pendidikan ibu (dari yang paling rendah ke yang tertinggi)\n",
    "pendidikan_order = [\n",
    "    'Tidak Diketahui', 'SD / sederajat', 'SMP / sederajat', 'SMA / sederajat', 'D1', 'D2', 'D3', 'D4', 'S1','S2'\n",
    "]\n",
    "\n",
    "# Mengonversi kolom 'pendidikan_ibu' menjadi kategori dengan urutan yang sudah ditentukan\n",
    "data['pendidikan_ibu'] = pd.Categorical(data['pendidikan_ibu'], categories=pendidikan_order, ordered=True)\n",
    "\n",
    "# Mengambil kode numerik sesuai urutan kategori\n",
    "data['pendidikan_ibu'] = data['pendidikan_ibu'].cat.codes\n",
    "\n",
    "# Menampilkan hasil Label Encoding untuk kolom pendidikan_ibu\n",
    "print(data[['pendidikan_ibu']].head())"
   ]
  },
  {
   "cell_type": "code",
   "execution_count": 13,
   "id": "e2bdc30d-6aef-48ae-8aa6-1ead3721668c",
   "metadata": {},
   "outputs": [
    {
     "data": {
      "text/html": [
       "<div>\n",
       "<style scoped>\n",
       "    .dataframe tbody tr th:only-of-type {\n",
       "        vertical-align: middle;\n",
       "    }\n",
       "\n",
       "    .dataframe tbody tr th {\n",
       "        vertical-align: top;\n",
       "    }\n",
       "\n",
       "    .dataframe thead th {\n",
       "        text-align: right;\n",
       "    }\n",
       "</style>\n",
       "<table border=\"1\" class=\"dataframe\">\n",
       "  <thead>\n",
       "    <tr style=\"text-align: right;\">\n",
       "      <th></th>\n",
       "      <th>no</th>\n",
       "      <th>nama</th>\n",
       "      <th>nipd</th>\n",
       "      <th>jk</th>\n",
       "      <th>nama_ayah</th>\n",
       "      <th>nama_ibu</th>\n",
       "      <th>tahun_ibu</th>\n",
       "      <th>pendidikan_ibu</th>\n",
       "      <th>kelas</th>\n",
       "      <th>pekerjaan_ibu_Buruh</th>\n",
       "      <th>...</th>\n",
       "      <th>penghasilan_ayah_Rp. 5,000,000 - Rp. 20,000,000</th>\n",
       "      <th>penghasilan_ayah_Rp. 500,000 - Rp. 999,999</th>\n",
       "      <th>penghasilan_ayah_Tidak Berpenghasilan</th>\n",
       "      <th>penghasilan_ibu_Kurang dari Rp. 500,000</th>\n",
       "      <th>penghasilan_ibu_Lebih dari Rp. 20,000,000</th>\n",
       "      <th>penghasilan_ibu_Rp. 1,000,000 - Rp. 1,999,999</th>\n",
       "      <th>penghasilan_ibu_Rp. 2,000,000 - Rp. 4,999,999</th>\n",
       "      <th>penghasilan_ibu_Rp. 5,000,000 - Rp. 20,000,000</th>\n",
       "      <th>penghasilan_ibu_Rp. 500,000 - Rp. 999,999</th>\n",
       "      <th>penghasilan_ibu_Tidak Berpenghasilan</th>\n",
       "    </tr>\n",
       "  </thead>\n",
       "  <tbody>\n",
       "    <tr>\n",
       "      <th>0</th>\n",
       "      <td>1</td>\n",
       "      <td>Adam Junior Muhlisin</td>\n",
       "      <td>1.23.3153</td>\n",
       "      <td>L</td>\n",
       "      <td>Mumu Muhlisin</td>\n",
       "      <td>Enny Asfiyah</td>\n",
       "      <td>1977</td>\n",
       "      <td>6</td>\n",
       "      <td>11-PSPT</td>\n",
       "      <td>False</td>\n",
       "      <td>...</td>\n",
       "      <td>False</td>\n",
       "      <td>False</td>\n",
       "      <td>False</td>\n",
       "      <td>False</td>\n",
       "      <td>False</td>\n",
       "      <td>False</td>\n",
       "      <td>True</td>\n",
       "      <td>False</td>\n",
       "      <td>False</td>\n",
       "      <td>False</td>\n",
       "    </tr>\n",
       "    <tr>\n",
       "      <th>1</th>\n",
       "      <td>2</td>\n",
       "      <td>ADITIA PRASETIO</td>\n",
       "      <td>1.24.3255</td>\n",
       "      <td>L</td>\n",
       "      <td>DENI PASISRANI</td>\n",
       "      <td>SUNENGSIH</td>\n",
       "      <td>0</td>\n",
       "      <td>0</td>\n",
       "      <td>10-BCP</td>\n",
       "      <td>False</td>\n",
       "      <td>...</td>\n",
       "      <td>False</td>\n",
       "      <td>False</td>\n",
       "      <td>False</td>\n",
       "      <td>False</td>\n",
       "      <td>False</td>\n",
       "      <td>False</td>\n",
       "      <td>False</td>\n",
       "      <td>False</td>\n",
       "      <td>False</td>\n",
       "      <td>True</td>\n",
       "    </tr>\n",
       "    <tr>\n",
       "      <th>2</th>\n",
       "      <td>3</td>\n",
       "      <td>Adly Firlangga Afzaal Putra</td>\n",
       "      <td>1.24.3224</td>\n",
       "      <td>L</td>\n",
       "      <td>Tidak Diketahui</td>\n",
       "      <td>Nur Aini</td>\n",
       "      <td>0</td>\n",
       "      <td>3</td>\n",
       "      <td>10-TJKT</td>\n",
       "      <td>False</td>\n",
       "      <td>...</td>\n",
       "      <td>False</td>\n",
       "      <td>False</td>\n",
       "      <td>False</td>\n",
       "      <td>False</td>\n",
       "      <td>False</td>\n",
       "      <td>False</td>\n",
       "      <td>False</td>\n",
       "      <td>False</td>\n",
       "      <td>False</td>\n",
       "      <td>True</td>\n",
       "    </tr>\n",
       "    <tr>\n",
       "      <th>3</th>\n",
       "      <td>4</td>\n",
       "      <td>ADZRAA AQIILAH</td>\n",
       "      <td>1.22.3063</td>\n",
       "      <td>P</td>\n",
       "      <td>Mulyadi Sanang</td>\n",
       "      <td>Ika sartika</td>\n",
       "      <td>1967</td>\n",
       "      <td>3</td>\n",
       "      <td>12-DKV</td>\n",
       "      <td>False</td>\n",
       "      <td>...</td>\n",
       "      <td>False</td>\n",
       "      <td>False</td>\n",
       "      <td>False</td>\n",
       "      <td>False</td>\n",
       "      <td>False</td>\n",
       "      <td>False</td>\n",
       "      <td>False</td>\n",
       "      <td>False</td>\n",
       "      <td>False</td>\n",
       "      <td>True</td>\n",
       "    </tr>\n",
       "    <tr>\n",
       "      <th>4</th>\n",
       "      <td>5</td>\n",
       "      <td>Afifah Nailal Husna</td>\n",
       "      <td>1.22.3087</td>\n",
       "      <td>P</td>\n",
       "      <td>Surur Masrur</td>\n",
       "      <td>Atik Latipah</td>\n",
       "      <td>1982</td>\n",
       "      <td>3</td>\n",
       "      <td>12-PSPT</td>\n",
       "      <td>False</td>\n",
       "      <td>...</td>\n",
       "      <td>True</td>\n",
       "      <td>False</td>\n",
       "      <td>False</td>\n",
       "      <td>False</td>\n",
       "      <td>False</td>\n",
       "      <td>False</td>\n",
       "      <td>False</td>\n",
       "      <td>False</td>\n",
       "      <td>False</td>\n",
       "      <td>True</td>\n",
       "    </tr>\n",
       "  </tbody>\n",
       "</table>\n",
       "<p>5 rows × 34 columns</p>\n",
       "</div>"
      ],
      "text/plain": [
       "   no                         nama       nipd jk        nama_ayah  \\\n",
       "0   1         Adam Junior Muhlisin  1.23.3153  L    Mumu Muhlisin   \n",
       "1   2              ADITIA PRASETIO  1.24.3255  L   DENI PASISRANI   \n",
       "2   3  Adly Firlangga Afzaal Putra  1.24.3224  L  Tidak Diketahui   \n",
       "3   4               ADZRAA AQIILAH  1.22.3063  P   Mulyadi Sanang   \n",
       "4   5          Afifah Nailal Husna  1.22.3087  P     Surur Masrur   \n",
       "\n",
       "       nama_ibu  tahun_ibu  pendidikan_ibu    kelas  pekerjaan_ibu_Buruh  ...  \\\n",
       "0  Enny Asfiyah       1977               6  11-PSPT                False  ...   \n",
       "1     SUNENGSIH          0               0   10-BCP                False  ...   \n",
       "2      Nur Aini          0               3  10-TJKT                False  ...   \n",
       "3   Ika sartika       1967               3   12-DKV                False  ...   \n",
       "4  Atik Latipah       1982               3  12-PSPT                False  ...   \n",
       "\n",
       "   penghasilan_ayah_Rp. 5,000,000 - Rp. 20,000,000  \\\n",
       "0                                            False   \n",
       "1                                            False   \n",
       "2                                            False   \n",
       "3                                            False   \n",
       "4                                             True   \n",
       "\n",
       "   penghasilan_ayah_Rp. 500,000 - Rp. 999,999  \\\n",
       "0                                       False   \n",
       "1                                       False   \n",
       "2                                       False   \n",
       "3                                       False   \n",
       "4                                       False   \n",
       "\n",
       "   penghasilan_ayah_Tidak Berpenghasilan  \\\n",
       "0                                  False   \n",
       "1                                  False   \n",
       "2                                  False   \n",
       "3                                  False   \n",
       "4                                  False   \n",
       "\n",
       "   penghasilan_ibu_Kurang dari Rp. 500,000  \\\n",
       "0                                    False   \n",
       "1                                    False   \n",
       "2                                    False   \n",
       "3                                    False   \n",
       "4                                    False   \n",
       "\n",
       "   penghasilan_ibu_Lebih dari Rp. 20,000,000  \\\n",
       "0                                      False   \n",
       "1                                      False   \n",
       "2                                      False   \n",
       "3                                      False   \n",
       "4                                      False   \n",
       "\n",
       "   penghasilan_ibu_Rp. 1,000,000 - Rp. 1,999,999  \\\n",
       "0                                          False   \n",
       "1                                          False   \n",
       "2                                          False   \n",
       "3                                          False   \n",
       "4                                          False   \n",
       "\n",
       "   penghasilan_ibu_Rp. 2,000,000 - Rp. 4,999,999  \\\n",
       "0                                           True   \n",
       "1                                          False   \n",
       "2                                          False   \n",
       "3                                          False   \n",
       "4                                          False   \n",
       "\n",
       "   penghasilan_ibu_Rp. 5,000,000 - Rp. 20,000,000  \\\n",
       "0                                           False   \n",
       "1                                           False   \n",
       "2                                           False   \n",
       "3                                           False   \n",
       "4                                           False   \n",
       "\n",
       "   penghasilan_ibu_Rp. 500,000 - Rp. 999,999  \\\n",
       "0                                      False   \n",
       "1                                      False   \n",
       "2                                      False   \n",
       "3                                      False   \n",
       "4                                      False   \n",
       "\n",
       "   penghasilan_ibu_Tidak Berpenghasilan  \n",
       "0                                 False  \n",
       "1                                  True  \n",
       "2                                  True  \n",
       "3                                  True  \n",
       "4                                  True  \n",
       "\n",
       "[5 rows x 34 columns]"
      ]
     },
     "execution_count": 13,
     "metadata": {},
     "output_type": "execute_result"
    }
   ],
   "source": [
    "# Melakukan One-Hot Encoding pada kolom 'pekerjaan_ibu', 'penghasilan_ayah', dan 'penghasilan_ibu'\n",
    "data = pd.get_dummies(data, columns=['pekerjaan_ibu', 'penghasilan_ayah', 'penghasilan_ibu'])\n",
    "\n",
    "# Menampilkan beberapa baris pertama untuk memeriksa hasil One-Hot Encoding\n",
    "data.head()"
   ]
  },
  {
   "cell_type": "code",
   "execution_count": 14,
   "id": "6b1a0965-6b7b-4497-9ba8-a02a903c0076",
   "metadata": {},
   "outputs": [
    {
     "name": "stdout",
     "output_type": "stream",
     "text": [
      "   total_penghasilan\n",
      "0            6000000\n",
      "1            1500000\n",
      "2            3000000\n",
      "3            3000000\n",
      "4           12500000\n"
     ]
    }
   ],
   "source": [
    "# Menjumlahkan kolom One-Hot Encoding yang terkait dengan penghasilan_ayah dan penghasilan_ibu\n",
    "data['total_penghasilan'] = (\n",
    "    data['penghasilan_ayah_Rp. 500,000 - Rp. 999,999'] * 750000 +\n",
    "    data['penghasilan_ayah_Rp. 1,000,000 - Rp. 1,999,999'] * 1500000 +\n",
    "    data['penghasilan_ayah_Rp. 2,000,000 - Rp. 4,999,999'] * 3000000 +\n",
    "    data['penghasilan_ayah_Rp. 5,000,000 - Rp. 20,000,000'] * 12500000 +\n",
    "    data['penghasilan_ayah_Tidak Berpenghasilan'] * 0 +\n",
    "    data['penghasilan_ayah_Kurang dari Rp. 500,000'] * 250000 +\n",
    "    data['penghasilan_ayah_Lebih dari Rp. 20,000,000'] * 25000000 +\n",
    "    data['penghasilan_ibu_Rp. 500,000 - Rp. 999,999'] * 750000 +\n",
    "    data['penghasilan_ibu_Rp. 1,000,000 - Rp. 1,999,999'] * 1500000 +\n",
    "    data['penghasilan_ibu_Rp. 2,000,000 - Rp. 4,999,999'] * 3000000 +\n",
    "    data['penghasilan_ibu_Rp. 5,000,000 - Rp. 20,000,000'] * 12500000 +\n",
    "    data['penghasilan_ibu_Tidak Berpenghasilan'] * 0 +\n",
    "    data['penghasilan_ibu_Kurang dari Rp. 500,000'] * 250000 +\n",
    "    data['penghasilan_ibu_Lebih dari Rp. 20,000,000'] * 25000000\n",
    ")\n",
    "\n",
    "# Menampilkan beberapa baris pertama untuk memeriksa kolom 'total_penghasilan'\n",
    "print(data[['total_penghasilan']].head())"
   ]
  },
  {
   "cell_type": "code",
   "execution_count": 31,
   "id": "ae6a00eb-8258-4ec8-ae56-cf37d514d65e",
   "metadata": {},
   "outputs": [
    {
     "ename": "KeyError",
     "evalue": "'pekerjaan_ibu'",
     "output_type": "error",
     "traceback": [
      "\u001b[1;31m---------------------------------------------------------------------------\u001b[0m",
      "\u001b[1;31mKeyError\u001b[0m                                  Traceback (most recent call last)",
      "File \u001b[1;32m~\\anaconda3\\Lib\\site-packages\\pandas\\core\\indexes\\base.py:3791\u001b[0m, in \u001b[0;36mIndex.get_loc\u001b[1;34m(self, key)\u001b[0m\n\u001b[0;32m   3790\u001b[0m \u001b[38;5;28;01mtry\u001b[39;00m:\n\u001b[1;32m-> 3791\u001b[0m     \u001b[38;5;28;01mreturn\u001b[39;00m \u001b[38;5;28mself\u001b[39m\u001b[38;5;241m.\u001b[39m_engine\u001b[38;5;241m.\u001b[39mget_loc(casted_key)\n\u001b[0;32m   3792\u001b[0m \u001b[38;5;28;01mexcept\u001b[39;00m \u001b[38;5;167;01mKeyError\u001b[39;00m \u001b[38;5;28;01mas\u001b[39;00m err:\n",
      "File \u001b[1;32mindex.pyx:152\u001b[0m, in \u001b[0;36mpandas._libs.index.IndexEngine.get_loc\u001b[1;34m()\u001b[0m\n",
      "File \u001b[1;32mindex.pyx:181\u001b[0m, in \u001b[0;36mpandas._libs.index.IndexEngine.get_loc\u001b[1;34m()\u001b[0m\n",
      "File \u001b[1;32mpandas\\_libs\\hashtable_class_helper.pxi:7080\u001b[0m, in \u001b[0;36mpandas._libs.hashtable.PyObjectHashTable.get_item\u001b[1;34m()\u001b[0m\n",
      "File \u001b[1;32mpandas\\_libs\\hashtable_class_helper.pxi:7088\u001b[0m, in \u001b[0;36mpandas._libs.hashtable.PyObjectHashTable.get_item\u001b[1;34m()\u001b[0m\n",
      "\u001b[1;31mKeyError\u001b[0m: 'pekerjaan_ibu'",
      "\nThe above exception was the direct cause of the following exception:\n",
      "\u001b[1;31mKeyError\u001b[0m                                  Traceback (most recent call last)",
      "Cell \u001b[1;32mIn[31], line 35\u001b[0m\n\u001b[0;32m     32\u001b[0m     \u001b[38;5;28;01mreturn\u001b[39;00m spp\n\u001b[0;32m     34\u001b[0m \u001b[38;5;66;03m# Mengaplikasikan fungsi ke kolom 'total_penghasilan', 'pendidikan_ibu', dan 'pekerjaan_ibu' untuk menentukan potongan SPP\u001b[39;00m\n\u001b[1;32m---> 35\u001b[0m data[\u001b[38;5;124m'\u001b[39m\u001b[38;5;124mpotongan_spp\u001b[39m\u001b[38;5;124m'\u001b[39m] \u001b[38;5;241m=\u001b[39m data\u001b[38;5;241m.\u001b[39mapply(\u001b[38;5;28;01mlambda\u001b[39;00m row: get_spp_discount(row[\u001b[38;5;124m'\u001b[39m\u001b[38;5;124mtotal_penghasilan\u001b[39m\u001b[38;5;124m'\u001b[39m], row[\u001b[38;5;124m'\u001b[39m\u001b[38;5;124mpendidikan_ibu\u001b[39m\u001b[38;5;124m'\u001b[39m], row[\u001b[38;5;124m'\u001b[39m\u001b[38;5;124mpekerjaan_ibu\u001b[39m\u001b[38;5;124m'\u001b[39m]), axis\u001b[38;5;241m=\u001b[39m\u001b[38;5;241m1\u001b[39m)\n\u001b[0;32m     37\u001b[0m \u001b[38;5;66;03m# Menampilkan hasil target potongan SPP\u001b[39;00m\n\u001b[0;32m     38\u001b[0m \u001b[38;5;28mprint\u001b[39m(data[[\u001b[38;5;124m'\u001b[39m\u001b[38;5;124mtotal_penghasilan\u001b[39m\u001b[38;5;124m'\u001b[39m, \u001b[38;5;124m'\u001b[39m\u001b[38;5;124mpendidikan_ibu\u001b[39m\u001b[38;5;124m'\u001b[39m, \u001b[38;5;124m'\u001b[39m\u001b[38;5;124mpekerjaan_ibu\u001b[39m\u001b[38;5;124m'\u001b[39m, \u001b[38;5;124m'\u001b[39m\u001b[38;5;124mpotongan_spp\u001b[39m\u001b[38;5;124m'\u001b[39m]]\u001b[38;5;241m.\u001b[39mhead())\n",
      "File \u001b[1;32m~\\anaconda3\\Lib\\site-packages\\pandas\\core\\frame.py:10034\u001b[0m, in \u001b[0;36mDataFrame.apply\u001b[1;34m(self, func, axis, raw, result_type, args, by_row, **kwargs)\u001b[0m\n\u001b[0;32m  10022\u001b[0m \u001b[38;5;28;01mfrom\u001b[39;00m \u001b[38;5;21;01mpandas\u001b[39;00m\u001b[38;5;21;01m.\u001b[39;00m\u001b[38;5;21;01mcore\u001b[39;00m\u001b[38;5;21;01m.\u001b[39;00m\u001b[38;5;21;01mapply\u001b[39;00m \u001b[38;5;28;01mimport\u001b[39;00m frame_apply\n\u001b[0;32m  10024\u001b[0m op \u001b[38;5;241m=\u001b[39m frame_apply(\n\u001b[0;32m  10025\u001b[0m     \u001b[38;5;28mself\u001b[39m,\n\u001b[0;32m  10026\u001b[0m     func\u001b[38;5;241m=\u001b[39mfunc,\n\u001b[1;32m   (...)\u001b[0m\n\u001b[0;32m  10032\u001b[0m     kwargs\u001b[38;5;241m=\u001b[39mkwargs,\n\u001b[0;32m  10033\u001b[0m )\n\u001b[1;32m> 10034\u001b[0m \u001b[38;5;28;01mreturn\u001b[39;00m op\u001b[38;5;241m.\u001b[39mapply()\u001b[38;5;241m.\u001b[39m__finalize__(\u001b[38;5;28mself\u001b[39m, method\u001b[38;5;241m=\u001b[39m\u001b[38;5;124m\"\u001b[39m\u001b[38;5;124mapply\u001b[39m\u001b[38;5;124m\"\u001b[39m)\n",
      "File \u001b[1;32m~\\anaconda3\\Lib\\site-packages\\pandas\\core\\apply.py:837\u001b[0m, in \u001b[0;36mFrameApply.apply\u001b[1;34m(self)\u001b[0m\n\u001b[0;32m    834\u001b[0m \u001b[38;5;28;01melif\u001b[39;00m \u001b[38;5;28mself\u001b[39m\u001b[38;5;241m.\u001b[39mraw:\n\u001b[0;32m    835\u001b[0m     \u001b[38;5;28;01mreturn\u001b[39;00m \u001b[38;5;28mself\u001b[39m\u001b[38;5;241m.\u001b[39mapply_raw()\n\u001b[1;32m--> 837\u001b[0m \u001b[38;5;28;01mreturn\u001b[39;00m \u001b[38;5;28mself\u001b[39m\u001b[38;5;241m.\u001b[39mapply_standard()\n",
      "File \u001b[1;32m~\\anaconda3\\Lib\\site-packages\\pandas\\core\\apply.py:965\u001b[0m, in \u001b[0;36mFrameApply.apply_standard\u001b[1;34m(self)\u001b[0m\n\u001b[0;32m    964\u001b[0m \u001b[38;5;28;01mdef\u001b[39;00m \u001b[38;5;21mapply_standard\u001b[39m(\u001b[38;5;28mself\u001b[39m):\n\u001b[1;32m--> 965\u001b[0m     results, res_index \u001b[38;5;241m=\u001b[39m \u001b[38;5;28mself\u001b[39m\u001b[38;5;241m.\u001b[39mapply_series_generator()\n\u001b[0;32m    967\u001b[0m     \u001b[38;5;66;03m# wrap results\u001b[39;00m\n\u001b[0;32m    968\u001b[0m     \u001b[38;5;28;01mreturn\u001b[39;00m \u001b[38;5;28mself\u001b[39m\u001b[38;5;241m.\u001b[39mwrap_results(results, res_index)\n",
      "File \u001b[1;32m~\\anaconda3\\Lib\\site-packages\\pandas\\core\\apply.py:981\u001b[0m, in \u001b[0;36mFrameApply.apply_series_generator\u001b[1;34m(self)\u001b[0m\n\u001b[0;32m    978\u001b[0m \u001b[38;5;28;01mwith\u001b[39;00m option_context(\u001b[38;5;124m\"\u001b[39m\u001b[38;5;124mmode.chained_assignment\u001b[39m\u001b[38;5;124m\"\u001b[39m, \u001b[38;5;28;01mNone\u001b[39;00m):\n\u001b[0;32m    979\u001b[0m     \u001b[38;5;28;01mfor\u001b[39;00m i, v \u001b[38;5;129;01min\u001b[39;00m \u001b[38;5;28menumerate\u001b[39m(series_gen):\n\u001b[0;32m    980\u001b[0m         \u001b[38;5;66;03m# ignore SettingWithCopy here in case the user mutates\u001b[39;00m\n\u001b[1;32m--> 981\u001b[0m         results[i] \u001b[38;5;241m=\u001b[39m \u001b[38;5;28mself\u001b[39m\u001b[38;5;241m.\u001b[39mfunc(v, \u001b[38;5;241m*\u001b[39m\u001b[38;5;28mself\u001b[39m\u001b[38;5;241m.\u001b[39margs, \u001b[38;5;241m*\u001b[39m\u001b[38;5;241m*\u001b[39m\u001b[38;5;28mself\u001b[39m\u001b[38;5;241m.\u001b[39mkwargs)\n\u001b[0;32m    982\u001b[0m         \u001b[38;5;28;01mif\u001b[39;00m \u001b[38;5;28misinstance\u001b[39m(results[i], ABCSeries):\n\u001b[0;32m    983\u001b[0m             \u001b[38;5;66;03m# If we have a view on v, we need to make a copy because\u001b[39;00m\n\u001b[0;32m    984\u001b[0m             \u001b[38;5;66;03m#  series_generator will swap out the underlying data\u001b[39;00m\n\u001b[0;32m    985\u001b[0m             results[i] \u001b[38;5;241m=\u001b[39m results[i]\u001b[38;5;241m.\u001b[39mcopy(deep\u001b[38;5;241m=\u001b[39m\u001b[38;5;28;01mFalse\u001b[39;00m)\n",
      "Cell \u001b[1;32mIn[31], line 35\u001b[0m, in \u001b[0;36m<lambda>\u001b[1;34m(row)\u001b[0m\n\u001b[0;32m     32\u001b[0m     \u001b[38;5;28;01mreturn\u001b[39;00m spp\n\u001b[0;32m     34\u001b[0m \u001b[38;5;66;03m# Mengaplikasikan fungsi ke kolom 'total_penghasilan', 'pendidikan_ibu', dan 'pekerjaan_ibu' untuk menentukan potongan SPP\u001b[39;00m\n\u001b[1;32m---> 35\u001b[0m data[\u001b[38;5;124m'\u001b[39m\u001b[38;5;124mpotongan_spp\u001b[39m\u001b[38;5;124m'\u001b[39m] \u001b[38;5;241m=\u001b[39m data\u001b[38;5;241m.\u001b[39mapply(\u001b[38;5;28;01mlambda\u001b[39;00m row: get_spp_discount(row[\u001b[38;5;124m'\u001b[39m\u001b[38;5;124mtotal_penghasilan\u001b[39m\u001b[38;5;124m'\u001b[39m], row[\u001b[38;5;124m'\u001b[39m\u001b[38;5;124mpendidikan_ibu\u001b[39m\u001b[38;5;124m'\u001b[39m], row[\u001b[38;5;124m'\u001b[39m\u001b[38;5;124mpekerjaan_ibu\u001b[39m\u001b[38;5;124m'\u001b[39m]), axis\u001b[38;5;241m=\u001b[39m\u001b[38;5;241m1\u001b[39m)\n\u001b[0;32m     37\u001b[0m \u001b[38;5;66;03m# Menampilkan hasil target potongan SPP\u001b[39;00m\n\u001b[0;32m     38\u001b[0m \u001b[38;5;28mprint\u001b[39m(data[[\u001b[38;5;124m'\u001b[39m\u001b[38;5;124mtotal_penghasilan\u001b[39m\u001b[38;5;124m'\u001b[39m, \u001b[38;5;124m'\u001b[39m\u001b[38;5;124mpendidikan_ibu\u001b[39m\u001b[38;5;124m'\u001b[39m, \u001b[38;5;124m'\u001b[39m\u001b[38;5;124mpekerjaan_ibu\u001b[39m\u001b[38;5;124m'\u001b[39m, \u001b[38;5;124m'\u001b[39m\u001b[38;5;124mpotongan_spp\u001b[39m\u001b[38;5;124m'\u001b[39m]]\u001b[38;5;241m.\u001b[39mhead())\n",
      "File \u001b[1;32m~\\anaconda3\\Lib\\site-packages\\pandas\\core\\series.py:1040\u001b[0m, in \u001b[0;36mSeries.__getitem__\u001b[1;34m(self, key)\u001b[0m\n\u001b[0;32m   1037\u001b[0m     \u001b[38;5;28;01mreturn\u001b[39;00m \u001b[38;5;28mself\u001b[39m\u001b[38;5;241m.\u001b[39m_values[key]\n\u001b[0;32m   1039\u001b[0m \u001b[38;5;28;01melif\u001b[39;00m key_is_scalar:\n\u001b[1;32m-> 1040\u001b[0m     \u001b[38;5;28;01mreturn\u001b[39;00m \u001b[38;5;28mself\u001b[39m\u001b[38;5;241m.\u001b[39m_get_value(key)\n\u001b[0;32m   1042\u001b[0m \u001b[38;5;66;03m# Convert generator to list before going through hashable part\u001b[39;00m\n\u001b[0;32m   1043\u001b[0m \u001b[38;5;66;03m# (We will iterate through the generator there to check for slices)\u001b[39;00m\n\u001b[0;32m   1044\u001b[0m \u001b[38;5;28;01mif\u001b[39;00m is_iterator(key):\n",
      "File \u001b[1;32m~\\anaconda3\\Lib\\site-packages\\pandas\\core\\series.py:1156\u001b[0m, in \u001b[0;36mSeries._get_value\u001b[1;34m(self, label, takeable)\u001b[0m\n\u001b[0;32m   1153\u001b[0m     \u001b[38;5;28;01mreturn\u001b[39;00m \u001b[38;5;28mself\u001b[39m\u001b[38;5;241m.\u001b[39m_values[label]\n\u001b[0;32m   1155\u001b[0m \u001b[38;5;66;03m# Similar to Index.get_value, but we do not fall back to positional\u001b[39;00m\n\u001b[1;32m-> 1156\u001b[0m loc \u001b[38;5;241m=\u001b[39m \u001b[38;5;28mself\u001b[39m\u001b[38;5;241m.\u001b[39mindex\u001b[38;5;241m.\u001b[39mget_loc(label)\n\u001b[0;32m   1158\u001b[0m \u001b[38;5;28;01mif\u001b[39;00m is_integer(loc):\n\u001b[0;32m   1159\u001b[0m     \u001b[38;5;28;01mreturn\u001b[39;00m \u001b[38;5;28mself\u001b[39m\u001b[38;5;241m.\u001b[39m_values[loc]\n",
      "File \u001b[1;32m~\\anaconda3\\Lib\\site-packages\\pandas\\core\\indexes\\base.py:3798\u001b[0m, in \u001b[0;36mIndex.get_loc\u001b[1;34m(self, key)\u001b[0m\n\u001b[0;32m   3793\u001b[0m     \u001b[38;5;28;01mif\u001b[39;00m \u001b[38;5;28misinstance\u001b[39m(casted_key, \u001b[38;5;28mslice\u001b[39m) \u001b[38;5;129;01mor\u001b[39;00m (\n\u001b[0;32m   3794\u001b[0m         \u001b[38;5;28misinstance\u001b[39m(casted_key, abc\u001b[38;5;241m.\u001b[39mIterable)\n\u001b[0;32m   3795\u001b[0m         \u001b[38;5;129;01mand\u001b[39;00m \u001b[38;5;28many\u001b[39m(\u001b[38;5;28misinstance\u001b[39m(x, \u001b[38;5;28mslice\u001b[39m) \u001b[38;5;28;01mfor\u001b[39;00m x \u001b[38;5;129;01min\u001b[39;00m casted_key)\n\u001b[0;32m   3796\u001b[0m     ):\n\u001b[0;32m   3797\u001b[0m         \u001b[38;5;28;01mraise\u001b[39;00m InvalidIndexError(key)\n\u001b[1;32m-> 3798\u001b[0m     \u001b[38;5;28;01mraise\u001b[39;00m \u001b[38;5;167;01mKeyError\u001b[39;00m(key) \u001b[38;5;28;01mfrom\u001b[39;00m \u001b[38;5;21;01merr\u001b[39;00m\n\u001b[0;32m   3799\u001b[0m \u001b[38;5;28;01mexcept\u001b[39;00m \u001b[38;5;167;01mTypeError\u001b[39;00m:\n\u001b[0;32m   3800\u001b[0m     \u001b[38;5;66;03m# If we have a listlike key, _check_indexing_error will raise\u001b[39;00m\n\u001b[0;32m   3801\u001b[0m     \u001b[38;5;66;03m#  InvalidIndexError. Otherwise we fall through and re-raise\u001b[39;00m\n\u001b[0;32m   3802\u001b[0m     \u001b[38;5;66;03m#  the TypeError.\u001b[39;00m\n\u001b[0;32m   3803\u001b[0m     \u001b[38;5;28mself\u001b[39m\u001b[38;5;241m.\u001b[39m_check_indexing_error(key)\n",
      "\u001b[1;31mKeyError\u001b[0m: 'pekerjaan_ibu'"
     ]
    }
   ],
   "source": [
    "# Menentukan kategori potongan SPP berdasarkan total penghasilan, pendidikan ibu, dan pekerjaan ibu\n",
    "def get_spp_discount(total_penghasilan, pendidikan_ibu, pekerjaan_ibu):\n",
    "    # Potongan berdasarkan total penghasilan\n",
    "    if 0 <= total_penghasilan <= 999999:\n",
    "        spp = 'Potongan 70%'\n",
    "    elif 1000000 <= total_penghasilan <= 1999999:\n",
    "        spp = 'Potongan 50%'\n",
    "    elif 2000000 <= total_penghasilan <= 4999999:\n",
    "        spp = 'Potongan 30%'\n",
    "    else:\n",
    "        spp = 'Tidak Layak'\n",
    "\n",
    "    # Menambahkan aturan berdasarkan pendidikan ibu\n",
    "    if pendidikan_ibu >= 8:  # Misalnya, jika ibu S1 ke atas, beri potongan tambahan\n",
    "        if spp == 'Potongan 70%':\n",
    "            spp = 'Potongan 50%'  # Mengurangi potongan menjadi 50%\n",
    "        elif spp == 'Potongan 50%':\n",
    "            spp = 'Potongan 30%'  # Mengurangi potongan menjadi 30%\n",
    "        elif spp == 'Potongan 30%':\n",
    "            spp = 'Tidak Layak'   # Menghapus potongan\n",
    "    elif pendidikan_ibu <= 3:  # Jika pendidikan ibu rendah, beri potongan lebih tinggi\n",
    "        if spp == 'Potongan 50%':\n",
    "            spp = 'Potongan 70%'  # Mengembalikan potongan menjadi 70%\n",
    "\n",
    "    # Menambahkan aturan berdasarkan pekerjaan ibu\n",
    "    if pekerjaan_ibu == 'Tidak bekerja' or pekerjaan_ibu == 'Pedagang Kecil':  # Jika ibu tidak bekerja atau pedagang kecil\n",
    "        if spp == 'Potongan 50%':\n",
    "            spp = 'Potongan 70%'  # Memberikan potongan lebih tinggi\n",
    "        elif spp == 'Potongan 30%':\n",
    "            spp = 'Potongan 50%'  # Menambah potongan\n",
    "\n",
    "    return spp\n",
    "\n",
    "# Mengaplikasikan fungsi ke kolom 'total_penghasilan', 'pendidikan_ibu', dan 'pekerjaan_ibu' untuk menentukan potongan SPP\n",
    "data['potongan_spp'] = data.apply(lambda row: get_spp_discount(row['total_penghasilan'], row['pendidikan_ibu'], row['pekerjaan_ibu']), axis=1)\n",
    "\n",
    "# Menampilkan hasil target potongan SPP\n",
    "print(data[['total_penghasilan', 'pendidikan_ibu', 'pekerjaan_ibu', 'potongan_spp']].head())"
   ]
  },
  {
   "cell_type": "code",
   "execution_count": 15,
   "id": "c5e2f2bf-5681-4859-902b-c88e3716176d",
   "metadata": {},
   "outputs": [
    {
     "ename": "KeyError",
     "evalue": "\"['potongan_spp'] not found in axis\"",
     "output_type": "error",
     "traceback": [
      "\u001b[1;31m---------------------------------------------------------------------------\u001b[0m",
      "\u001b[1;31mKeyError\u001b[0m                                  Traceback (most recent call last)",
      "Cell \u001b[1;32mIn[15], line 2\u001b[0m\n\u001b[0;32m      1\u001b[0m \u001b[38;5;66;03m# Memisahkan fitur dan target\u001b[39;00m\n\u001b[1;32m----> 2\u001b[0m X \u001b[38;5;241m=\u001b[39m data\u001b[38;5;241m.\u001b[39mdrop(columns\u001b[38;5;241m=\u001b[39m[\u001b[38;5;124m'\u001b[39m\u001b[38;5;124mpotongan_spp\u001b[39m\u001b[38;5;124m'\u001b[39m, \u001b[38;5;124m'\u001b[39m\u001b[38;5;124mno\u001b[39m\u001b[38;5;124m'\u001b[39m, \u001b[38;5;124m'\u001b[39m\u001b[38;5;124mnama\u001b[39m\u001b[38;5;124m'\u001b[39m, \u001b[38;5;124m'\u001b[39m\u001b[38;5;124mnama_ayah\u001b[39m\u001b[38;5;124m'\u001b[39m, \u001b[38;5;124m'\u001b[39m\u001b[38;5;124mnama_ibu\u001b[39m\u001b[38;5;124m'\u001b[39m, \u001b[38;5;124m'\u001b[39m\u001b[38;5;124mtahun_ibu\u001b[39m\u001b[38;5;124m'\u001b[39m, \u001b[38;5;124m'\u001b[39m\u001b[38;5;124mnipd\u001b[39m\u001b[38;5;124m'\u001b[39m, \u001b[38;5;124m'\u001b[39m\u001b[38;5;124mjk\u001b[39m\u001b[38;5;124m'\u001b[39m])  \u001b[38;5;66;03m# Drop kolom yang tidak digunakan\u001b[39;00m\n\u001b[0;32m      3\u001b[0m y \u001b[38;5;241m=\u001b[39m data[\u001b[38;5;124m'\u001b[39m\u001b[38;5;124mpotongan_spp\u001b[39m\u001b[38;5;124m'\u001b[39m]\n",
      "File \u001b[1;32m~\\anaconda3\\Lib\\site-packages\\pandas\\core\\frame.py:5344\u001b[0m, in \u001b[0;36mDataFrame.drop\u001b[1;34m(self, labels, axis, index, columns, level, inplace, errors)\u001b[0m\n\u001b[0;32m   5196\u001b[0m \u001b[38;5;28;01mdef\u001b[39;00m \u001b[38;5;21mdrop\u001b[39m(\n\u001b[0;32m   5197\u001b[0m     \u001b[38;5;28mself\u001b[39m,\n\u001b[0;32m   5198\u001b[0m     labels: IndexLabel \u001b[38;5;241m|\u001b[39m \u001b[38;5;28;01mNone\u001b[39;00m \u001b[38;5;241m=\u001b[39m \u001b[38;5;28;01mNone\u001b[39;00m,\n\u001b[1;32m   (...)\u001b[0m\n\u001b[0;32m   5205\u001b[0m     errors: IgnoreRaise \u001b[38;5;241m=\u001b[39m \u001b[38;5;124m\"\u001b[39m\u001b[38;5;124mraise\u001b[39m\u001b[38;5;124m\"\u001b[39m,\n\u001b[0;32m   5206\u001b[0m ) \u001b[38;5;241m-\u001b[39m\u001b[38;5;241m>\u001b[39m DataFrame \u001b[38;5;241m|\u001b[39m \u001b[38;5;28;01mNone\u001b[39;00m:\n\u001b[0;32m   5207\u001b[0m \u001b[38;5;250m    \u001b[39m\u001b[38;5;124;03m\"\"\"\u001b[39;00m\n\u001b[0;32m   5208\u001b[0m \u001b[38;5;124;03m    Drop specified labels from rows or columns.\u001b[39;00m\n\u001b[0;32m   5209\u001b[0m \n\u001b[1;32m   (...)\u001b[0m\n\u001b[0;32m   5342\u001b[0m \u001b[38;5;124;03m            weight  1.0     0.8\u001b[39;00m\n\u001b[0;32m   5343\u001b[0m \u001b[38;5;124;03m    \"\"\"\u001b[39;00m\n\u001b[1;32m-> 5344\u001b[0m     \u001b[38;5;28;01mreturn\u001b[39;00m \u001b[38;5;28msuper\u001b[39m()\u001b[38;5;241m.\u001b[39mdrop(\n\u001b[0;32m   5345\u001b[0m         labels\u001b[38;5;241m=\u001b[39mlabels,\n\u001b[0;32m   5346\u001b[0m         axis\u001b[38;5;241m=\u001b[39maxis,\n\u001b[0;32m   5347\u001b[0m         index\u001b[38;5;241m=\u001b[39mindex,\n\u001b[0;32m   5348\u001b[0m         columns\u001b[38;5;241m=\u001b[39mcolumns,\n\u001b[0;32m   5349\u001b[0m         level\u001b[38;5;241m=\u001b[39mlevel,\n\u001b[0;32m   5350\u001b[0m         inplace\u001b[38;5;241m=\u001b[39minplace,\n\u001b[0;32m   5351\u001b[0m         errors\u001b[38;5;241m=\u001b[39merrors,\n\u001b[0;32m   5352\u001b[0m     )\n",
      "File \u001b[1;32m~\\anaconda3\\Lib\\site-packages\\pandas\\core\\generic.py:4711\u001b[0m, in \u001b[0;36mNDFrame.drop\u001b[1;34m(self, labels, axis, index, columns, level, inplace, errors)\u001b[0m\n\u001b[0;32m   4709\u001b[0m \u001b[38;5;28;01mfor\u001b[39;00m axis, labels \u001b[38;5;129;01min\u001b[39;00m axes\u001b[38;5;241m.\u001b[39mitems():\n\u001b[0;32m   4710\u001b[0m     \u001b[38;5;28;01mif\u001b[39;00m labels \u001b[38;5;129;01mis\u001b[39;00m \u001b[38;5;129;01mnot\u001b[39;00m \u001b[38;5;28;01mNone\u001b[39;00m:\n\u001b[1;32m-> 4711\u001b[0m         obj \u001b[38;5;241m=\u001b[39m obj\u001b[38;5;241m.\u001b[39m_drop_axis(labels, axis, level\u001b[38;5;241m=\u001b[39mlevel, errors\u001b[38;5;241m=\u001b[39merrors)\n\u001b[0;32m   4713\u001b[0m \u001b[38;5;28;01mif\u001b[39;00m inplace:\n\u001b[0;32m   4714\u001b[0m     \u001b[38;5;28mself\u001b[39m\u001b[38;5;241m.\u001b[39m_update_inplace(obj)\n",
      "File \u001b[1;32m~\\anaconda3\\Lib\\site-packages\\pandas\\core\\generic.py:4753\u001b[0m, in \u001b[0;36mNDFrame._drop_axis\u001b[1;34m(self, labels, axis, level, errors, only_slice)\u001b[0m\n\u001b[0;32m   4751\u001b[0m         new_axis \u001b[38;5;241m=\u001b[39m axis\u001b[38;5;241m.\u001b[39mdrop(labels, level\u001b[38;5;241m=\u001b[39mlevel, errors\u001b[38;5;241m=\u001b[39merrors)\n\u001b[0;32m   4752\u001b[0m     \u001b[38;5;28;01melse\u001b[39;00m:\n\u001b[1;32m-> 4753\u001b[0m         new_axis \u001b[38;5;241m=\u001b[39m axis\u001b[38;5;241m.\u001b[39mdrop(labels, errors\u001b[38;5;241m=\u001b[39merrors)\n\u001b[0;32m   4754\u001b[0m     indexer \u001b[38;5;241m=\u001b[39m axis\u001b[38;5;241m.\u001b[39mget_indexer(new_axis)\n\u001b[0;32m   4756\u001b[0m \u001b[38;5;66;03m# Case for non-unique axis\u001b[39;00m\n\u001b[0;32m   4757\u001b[0m \u001b[38;5;28;01melse\u001b[39;00m:\n",
      "File \u001b[1;32m~\\anaconda3\\Lib\\site-packages\\pandas\\core\\indexes\\base.py:7000\u001b[0m, in \u001b[0;36mIndex.drop\u001b[1;34m(self, labels, errors)\u001b[0m\n\u001b[0;32m   6998\u001b[0m \u001b[38;5;28;01mif\u001b[39;00m mask\u001b[38;5;241m.\u001b[39many():\n\u001b[0;32m   6999\u001b[0m     \u001b[38;5;28;01mif\u001b[39;00m errors \u001b[38;5;241m!=\u001b[39m \u001b[38;5;124m\"\u001b[39m\u001b[38;5;124mignore\u001b[39m\u001b[38;5;124m\"\u001b[39m:\n\u001b[1;32m-> 7000\u001b[0m         \u001b[38;5;28;01mraise\u001b[39;00m \u001b[38;5;167;01mKeyError\u001b[39;00m(\u001b[38;5;124mf\u001b[39m\u001b[38;5;124m\"\u001b[39m\u001b[38;5;132;01m{\u001b[39;00mlabels[mask]\u001b[38;5;241m.\u001b[39mtolist()\u001b[38;5;132;01m}\u001b[39;00m\u001b[38;5;124m not found in axis\u001b[39m\u001b[38;5;124m\"\u001b[39m)\n\u001b[0;32m   7001\u001b[0m     indexer \u001b[38;5;241m=\u001b[39m indexer[\u001b[38;5;241m~\u001b[39mmask]\n\u001b[0;32m   7002\u001b[0m \u001b[38;5;28;01mreturn\u001b[39;00m \u001b[38;5;28mself\u001b[39m\u001b[38;5;241m.\u001b[39mdelete(indexer)\n",
      "\u001b[1;31mKeyError\u001b[0m: \"['potongan_spp'] not found in axis\""
     ]
    }
   ],
   "source": [
    "# Memisahkan fitur dan target\n",
    "X = data.drop(columns=['potongan_spp', 'no', 'nama', 'nama_ayah', 'nama_ibu', 'tahun_ibu', 'nipd', 'jk'])  # Drop kolom yang tidak digunakan\n",
    "y = data['potongan_spp']  # Target adalah kolom 'potongan_spp'"
   ]
  },
  {
   "cell_type": "code",
   "execution_count": 175,
   "id": "86fc2918-da4c-4472-a468-6fb12dd3c061",
   "metadata": {},
   "outputs": [
    {
     "name": "stdout",
     "output_type": "stream",
     "text": [
      "(226, 37) (57, 37) (226,) (57,)\n"
     ]
    }
   ],
   "source": [
    "# Membagi data menjadi data latih (80%) dan data uji (20%)\n",
    "X_train, X_test, y_train, y_test = train_test_split(X, y, test_size=0.2, random_state=42)\n",
    "\n",
    "# Menampilkan bentuk data latih dan data uji\n",
    "print(X_train.shape, X_test.shape, y_train.shape, y_test.shape)"
   ]
  },
  {
   "cell_type": "code",
   "execution_count": 176,
   "id": "2e2a40ee-fcd4-4c84-97c5-19e119e62045",
   "metadata": {},
   "outputs": [
    {
     "name": "stdout",
     "output_type": "stream",
     "text": [
      "Accuracy: 1.0000\n"
     ]
    }
   ],
   "source": [
    "# Membuat model Decision Tree\n",
    "model = DecisionTreeClassifier(random_state=42)\n",
    "\n",
    "# Melatih model dengan data latih\n",
    "model.fit(X_train, y_train)\n",
    "\n",
    "# Melakukan prediksi dengan data uji\n",
    "y_pred = model.predict(X_test)\n",
    "\n",
    "# Menghitung akurasi model\n",
    "accuracy = accuracy_score(y_test, y_pred)\n",
    "print(f'Accuracy: {accuracy:.4f}')"
   ]
  },
  {
   "cell_type": "code",
   "execution_count": 178,
   "id": "458c3f6c-a95e-4705-8fef-74ec337bcca0",
   "metadata": {},
   "outputs": [
    {
     "name": "stdout",
     "output_type": "stream",
     "text": [
      "              precision    recall  f1-score   support\n",
      "\n",
      "Potongan 30%       1.00      1.00      1.00        22\n",
      "Potongan 50%       1.00      1.00      1.00         3\n",
      "Potongan 70%       1.00      1.00      1.00         8\n",
      " Tidak Layak       1.00      1.00      1.00        24\n",
      "\n",
      "    accuracy                           1.00        57\n",
      "   macro avg       1.00      1.00      1.00        57\n",
      "weighted avg       1.00      1.00      1.00        57\n",
      "\n",
      "[[22  0  0  0]\n",
      " [ 0  3  0  0]\n",
      " [ 0  0  8  0]\n",
      " [ 0  0  0 24]]\n"
     ]
    }
   ],
   "source": [
    "# Menampilkan classification report\n",
    "print(classification_report(y_test, y_pred))\n",
    "\n",
    "# Menampilkan confusion matrix\n",
    "print(confusion_matrix(y_test, y_pred))"
   ]
  },
  {
   "cell_type": "code",
   "execution_count": 179,
   "id": "659f388a-792a-481f-aa36-ca791f622c28",
   "metadata": {},
   "outputs": [
    {
     "data": {
      "text/plain": [
       "[Text(0.6666666666666666, 0.875, 'total_penghasilan <= 5250000.0\\ngini = 0.69\\nsamples = 226\\nvalue = [85, 26, 32, 83]\\nclass = Tidak Layak'),\n",
       " Text(0.5, 0.625, 'total_penghasilan <= 1875000.0\\ngini = 0.564\\nsamples = 143\\nvalue = [85, 26, 32, 0]\\nclass = Tidak Layak'),\n",
       " Text(0.5833333333333333, 0.75, 'True  '),\n",
       " Text(0.3333333333333333, 0.375, 'total_penghasilan <= 875000.0\\ngini = 0.495\\nsamples = 58\\nvalue = [0, 26, 32, 0]\\nclass = Potongan 30%'),\n",
       " Text(0.16666666666666666, 0.125, 'gini = 0.0\\nsamples = 32\\nvalue = [0, 0, 32, 0]\\nclass = Potongan 30%'),\n",
       " Text(0.5, 0.125, 'gini = 0.0\\nsamples = 26\\nvalue = [0, 26, 0, 0]\\nclass = Potongan 50%'),\n",
       " Text(0.6666666666666666, 0.375, 'gini = 0.0\\nsamples = 85\\nvalue = [85, 0, 0, 0]\\nclass = Tidak Layak'),\n",
       " Text(0.8333333333333334, 0.625, 'gini = 0.0\\nsamples = 83\\nvalue = [0, 0, 0, 83]\\nclass = Potongan 70%'),\n",
       " Text(0.75, 0.75, '  False')]"
      ]
     },
     "execution_count": 179,
     "metadata": {},
     "output_type": "execute_result"
    },
    {
     "data": {
      "image/png": "[encoded data removed]",
      "text/plain": [
       "<Figure size 640x480 with 1 Axes>"
      ]
     },
     "metadata": {},
     "output_type": "display_data"
    }
   ],
   "source": [
    "# Visualisasi pohon keputusan\n",
    "plot_tree(model, filled=True, feature_names=X.columns, class_names=y.unique(), rounded=True, fontsize=12)"
   ]
  },
  {
   "cell_type": "code",
   "execution_count": null,
   "id": "e6a8b15f-ce77-4b1f-9f31-43f08317263f",
   "metadata": {},
   "outputs": [],
   "source": []
  }
 ],
 "metadata": {
  "kernelspec": {
   "display_name": "Python 3 (ipykernel)",
   "language": "python",
   "name": "python3"
  },
  "language_info": {
   "codemirror_mode": {
    "name": "ipython",
    "version": 3
   },
   "file_extension": ".py",
   "mimetype": "text/x-python",
   "name": "python",
   "nbconvert_exporter": "python",
   "pygments_lexer": "ipython3",
   "version": "3.11.4"
  }
 },
 "nbformat": 4,
 "nbformat_minor": 5
}
